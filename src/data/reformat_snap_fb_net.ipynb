{
 "cells": [
  {
   "cell_type": "code",
   "execution_count": 1,
   "metadata": {},
   "outputs": [],
   "source": [
    "import networkx as nx\n",
    "import numpy as np"
   ]
  },
  {
   "cell_type": "code",
   "execution_count": 2,
   "metadata": {},
   "outputs": [],
   "source": [
    "with open(\"snap_facebook_combined.txt\", \"r\") as f:\n",
    "    edges = f.readlines()"
   ]
  },
  {
   "cell_type": "code",
   "execution_count": 4,
   "metadata": {},
   "outputs": [],
   "source": [
    "edges = [e.strip().split(' ') for e in edges]"
   ]
  },
  {
   "cell_type": "code",
   "execution_count": 5,
   "metadata": {},
   "outputs": [],
   "source": [
    "g = nx.Graph()"
   ]
  },
  {
   "cell_type": "code",
   "execution_count": 6,
   "metadata": {},
   "outputs": [],
   "source": [
    "g.add_edges_from(edges)"
   ]
  },
  {
   "cell_type": "code",
   "execution_count": 7,
   "metadata": {},
   "outputs": [
    {
     "name": "stdout",
     "output_type": "stream",
     "text": [
      "Name: \n",
      "Type: Graph\n",
      "Number of nodes: 4039\n",
      "Number of edges: 88234\n",
      "Average degree:  43.6910\n"
     ]
    }
   ],
   "source": [
    "print(nx.info(g))"
   ]
  },
  {
   "cell_type": "code",
   "execution_count": 8,
   "metadata": {},
   "outputs": [],
   "source": [
    "with open(\"snap_fb.json\", \"w\") as f:\n",
    "    f.write('{\"nodes\": [\\n')\n",
    "    for i, node in enumerate(g.nodes):\n",
    "        if i == len(g.nodes)-1:\n",
    "            f.write('{{\"id\":\"{}\"}}\\n'.format(node))\n",
    "        else:\n",
    "            f.write('{{\"id\":\"{}\"}},\\n'.format(node))\n",
    "    f.write('],')\n",
    "    \n",
    "    f.write('\"edges\": [\\n')\n",
    "    for i, edge in enumerate(g.edges):\n",
    "        if i == len(g.edges)-1:\n",
    "            f.write('{{\"id\":\"{}\",\"source\":\"{}\",\"target\":\"{}\"}}\\n'.format(i, edge[0], edge[1]))\n",
    "        else:\n",
    "            f.write('{{\"id\":\"{}\",\"source\":\"{}\",\"target\":\"{}\"}},\\n'.format(i, edge[0], edge[1]))\n",
    "    f.write(']}')"
   ]
  },
  {
   "cell_type": "code",
   "execution_count": null,
   "metadata": {},
   "outputs": [],
   "source": []
  }
 ],
 "metadata": {
  "anaconda-cloud": {},
  "kernelspec": {
   "display_name": "Python [conda env:py37]",
   "language": "python",
   "name": "conda-env-py37-py"
  },
  "language_info": {
   "codemirror_mode": {
    "name": "ipython",
    "version": 3
   },
   "file_extension": ".py",
   "mimetype": "text/x-python",
   "name": "python",
   "nbconvert_exporter": "python",
   "pygments_lexer": "ipython3",
   "version": "3.7.3"
  }
 },
 "nbformat": 4,
 "nbformat_minor": 2
}

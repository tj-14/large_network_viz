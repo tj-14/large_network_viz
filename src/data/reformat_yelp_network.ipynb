{
 "cells": [
  {
   "cell_type": "code",
   "execution_count": 2,
   "metadata": {},
   "outputs": [],
   "source": [
    "import pickle\n",
    "import networkx as nx\n",
    "import numpy as np"
   ]
  },
  {
   "cell_type": "code",
   "execution_count": null,
   "metadata": {},
   "outputs": [],
   "source": [
    "g = pickle.load(open('././yelp_user_friend_digraph.pkl','rb'))"
   ]
  },
  {
   "cell_type": "code",
   "execution_count": null,
   "metadata": {},
   "outputs": [],
   "source": [
    "# with open(\"yelp.txt\", \"w\") as f:\n",
    "#     f.write('{\"nodes\": [\\n')\n",
    "#     for i, node in enumerate(g.nodes):\n",
    "#         if i == len(g.nodes)-1:\n",
    "#             f.write('{{\"id\":\"{}\"}}\\n'.format(node))\n",
    "#         else:\n",
    "#             f.write('{{\"id\":\"{}\"}},\\n'.format(node))\n",
    "#     f.write('],')\n",
    "    \n",
    "#     f.write('\"edges\": [\\n')\n",
    "#     for i, edge in enumerate(g.edges):\n",
    "#         if i == len(g.edges)-1:\n",
    "#             f.write('{{\"id\":\"{}\",\"source\":\"{}\",\"target\":\"{}\"}}\\n'.format(i, edge[0], edge[1]))\n",
    "#         else:\n",
    "#             f.write('{{\"id\":\"{}\",\"source\":\"{}\",\"target\":\"{}\"}},\\n'.format(i, edge[0], edge[1]))\n",
    "#     f.write(']}')"
   ]
  },
  {
   "cell_type": "code",
   "execution_count": 6,
   "metadata": {},
   "outputs": [
    {
     "name": "stdout",
     "output_type": "stream",
     "text": [
      "Name: \n",
      "Type: DiGraph\n",
      "Number of nodes: 13626167\n",
      "Number of edges: 64886917\n",
      "Average in degree:   4.7619\n",
      "Average out degree:   4.7619\n"
     ]
    }
   ],
   "source": [
    "print(nx.info(g))"
   ]
  },
  {
   "cell_type": "code",
   "execution_count": 1,
   "metadata": {},
   "outputs": [
    {
     "ename": "NameError",
     "evalue": "name 'g' is not defined",
     "output_type": "error",
     "traceback": [
      "\u001b[0;31m---------------------------------------------------------------------------\u001b[0m",
      "\u001b[0;31mNameError\u001b[0m                                 Traceback (most recent call last)",
      "\u001b[0;32m<ipython-input-1-11bcb25afdbd>\u001b[0m in \u001b[0;36m<module>\u001b[0;34m\u001b[0m\n\u001b[0;32m----> 1\u001b[0;31m \u001b[0mnodes\u001b[0m \u001b[0;34m=\u001b[0m \u001b[0mlist\u001b[0m\u001b[0;34m(\u001b[0m\u001b[0mg\u001b[0m\u001b[0;34m.\u001b[0m\u001b[0mnodes\u001b[0m\u001b[0;34m(\u001b[0m\u001b[0;34m)\u001b[0m\u001b[0;34m)\u001b[0m\u001b[0;34m\u001b[0m\u001b[0;34m\u001b[0m\u001b[0m\n\u001b[0m\u001b[1;32m      2\u001b[0m \u001b[0mnp\u001b[0m\u001b[0;34m.\u001b[0m\u001b[0mrandom\u001b[0m\u001b[0;34m.\u001b[0m\u001b[0mshuffle\u001b[0m\u001b[0;34m(\u001b[0m\u001b[0mnodes\u001b[0m\u001b[0;34m)\u001b[0m\u001b[0;34m\u001b[0m\u001b[0;34m\u001b[0m\u001b[0m\n\u001b[1;32m      3\u001b[0m \u001b[0msmall_nodes\u001b[0m \u001b[0;34m=\u001b[0m \u001b[0mnodes\u001b[0m\u001b[0;34m[\u001b[0m\u001b[0;34m:\u001b[0m\u001b[0mint\u001b[0m\u001b[0;34m(\u001b[0m\u001b[0mlen\u001b[0m\u001b[0;34m(\u001b[0m\u001b[0mg\u001b[0m\u001b[0;34m.\u001b[0m\u001b[0mnodes\u001b[0m\u001b[0;34m(\u001b[0m\u001b[0;34m)\u001b[0m\u001b[0;34m)\u001b[0m\u001b[0;34m*\u001b[0m\u001b[0;36m0.01\u001b[0m\u001b[0;34m)\u001b[0m\u001b[0;34m]\u001b[0m\u001b[0;34m\u001b[0m\u001b[0;34m\u001b[0m\u001b[0m\n",
      "\u001b[0;31mNameError\u001b[0m: name 'g' is not defined"
     ]
    }
   ],
   "source": [
    "nodes = list(g.nodes())\n",
    "np.random.shuffle(nodes)\n",
    "small_nodes = nodes[:int(len(g.nodes())*0.01)]"
   ]
  },
  {
   "cell_type": "code",
   "execution_count": null,
   "metadata": {},
   "outputs": [],
   "source": []
  },
  {
   "cell_type": "code",
   "execution_count": null,
   "metadata": {},
   "outputs": [],
   "source": [
    "g_small = g.subgraph(small_nodes).copy()"
   ]
  },
  {
   "cell_type": "code",
   "execution_count": null,
   "metadata": {},
   "outputs": [],
   "source": [
    "print(nx.info(g_small))"
   ]
  },
  {
   "cell_type": "code",
   "execution_count": null,
   "metadata": {},
   "outputs": [],
   "source": []
  },
  {
   "cell_type": "code",
   "execution_count": null,
   "metadata": {},
   "outputs": [],
   "source": [
    "with open(\"yelp_001.txt\", \"w\") as f:\n",
    "    f.write('{\"nodes\": [\\n')\n",
    "    for i, node in enumerate(g_small.nodes):\n",
    "        if i == len(g_small.nodes)-1:\n",
    "            f.write('{{\"id\":\"{}\"}}\\n'.format(node))\n",
    "        else:\n",
    "            f.write('{{\"id\":\"{}\"}},\\n'.format(node))\n",
    "    f.write('],')\n",
    "    \n",
    "    f.write('{\"edges\": [\\n')\n",
    "    for i, edge in enumerate(g_small.edges):\n",
    "        if i == len(g_small.nodes)-1:\n",
    "            f.write('{{\"id\":\"{}\",\"source\":\"{}\",\"target\":\"{}\"}}\\n'.format(i, edge[0], edge[1]))\n",
    "        else:\n",
    "            f.write('{{\"id\":\"{}\",\"source\":\"{}\",\"target\":\"{}\"}},\\n'.format(i, edge[0], edge[1]))\n",
    "    f.write(']}')"
   ]
  },
  {
   "cell_type": "code",
   "execution_count": null,
   "metadata": {},
   "outputs": [],
   "source": []
  }
 ],
 "metadata": {
  "anaconda-cloud": {},
  "kernelspec": {
   "display_name": "Python [conda env:py37]",
   "language": "python",
   "name": "conda-env-py37-py"
  },
  "language_info": {
   "codemirror_mode": {
    "name": "ipython",
    "version": 3
   },
   "file_extension": ".py",
   "mimetype": "text/x-python",
   "name": "python",
   "nbconvert_exporter": "python",
   "pygments_lexer": "ipython3",
   "version": "3.7.3"
  }
 },
 "nbformat": 4,
 "nbformat_minor": 2
}
